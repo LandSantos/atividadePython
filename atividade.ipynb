{
 "cells": [
  {
   "attachments": {},
   "cell_type": "markdown",
   "metadata": {},
   "source": []
  },
  {
   "cell_type": "code",
   "execution_count": 12,
   "metadata": {},
   "outputs": [
    {
     "name": "stdout",
     "output_type": "stream",
     "text": [
      "3.2\n"
     ]
    }
   ],
   "source": [
    "num1 = float(input('Digite um número: '))\n",
    "num2 = float(input('Digite um número: '))\n",
    "num3 = float(input('Digite um número: '))\n",
    "num4 = float(input('Digite um número: '))\n",
    "num5 = float(input('Digite um número: '))\n",
    "\n",
    "total = num1 + num2 + num3 + num4 + num5\n",
    "média = total/5\n",
    "print(média)\n",
    "#o código recebe 5 números do usuário, soma usando a variável total e a média é tirada a partir da varíavel total dividido por 5 e imprime o resultado"
   ]
  },
  {
   "cell_type": "code",
   "execution_count": 14,
   "metadata": {},
   "outputs": [
    {
     "name": "stdout",
     "output_type": "stream",
     "text": [
      "86.0\n"
     ]
    }
   ],
   "source": [
    "temperatura = float(input('Digite uma temperatura em graus celsius: '))\n",
    "farenheit = 1.8 * temperatura + 32\n",
    "print(farenheit)\n",
    "#o código recebe a temperatura em graus celsius e converte para farenheit através da fórmula e imprime o resultado\n"
   ]
  },
  {
   "cell_type": "code",
   "execution_count": 20,
   "metadata": {},
   "outputs": [
    {
     "name": "stdout",
     "output_type": "stream",
     "text": [
      "60.0\n",
      "200.0\n"
     ]
    }
   ],
   "source": [
    "largura = float(input('Digite a largura de um retângulo: '))\n",
    "altura = float(input('Digite a área de um retângulo: '))\n",
    "perímetro = 2 * (largura + altura)\n",
    "área = (largura * altura) \n",
    "print(perímetro)\n",
    "print(área)\n",
    "#o código recebe altura e largura do usuário, depois calcula atráves da fórmula de ambos e imprime o resultado\n"
   ]
  },
  {
   "cell_type": "code",
   "execution_count": null,
   "metadata": {},
   "outputs": [],
   "source": []
  }
 ],
 "metadata": {
  "kernelspec": {
   "display_name": "base",
   "language": "python",
   "name": "python3"
  },
  "language_info": {
   "codemirror_mode": {
    "name": "ipython",
    "version": 3
   },
   "file_extension": ".py",
   "mimetype": "text/x-python",
   "name": "python",
   "nbconvert_exporter": "python",
   "pygments_lexer": "ipython3",
   "version": "3.9.13"
  },
  "orig_nbformat": 4,
  "vscode": {
   "interpreter": {
    "hash": "ad2bdc8ecc057115af97d19610ffacc2b4e99fae6737bb82f5d7fb13d2f2c186"
   }
  }
 },
 "nbformat": 4,
 "nbformat_minor": 2
}
